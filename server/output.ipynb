{
 "cells": [
  {
   "cell_type": "code",
   "execution_count": 1,
   "metadata": {},
   "outputs": [],
   "source": [
    "import numpy as np\n",
    "import os\n",
    "import scipy.io\n",
    "import time\n",
    "from datetime import datetime\n",
    "from scipy.spatial.distance import cosine\n",
    "#import matplotlib.pyplot as plt\n",
    "from sklearn.neighbors import NearestNeighbors\n",
    "import pickle \n",
    "import glob"
   ]
  },
  {
   "cell_type": "code",
   "execution_count": 2,
   "metadata": {},
   "outputs": [],
   "source": [
    "def get_top_k_similar(image_data, pred, pred_final, k=50):\n",
    "    mat = np.argsort([cosine(image_data, pred_row)for ith_row, pred_row in enumerate(pred)])\n",
    "    top50=[]\n",
    "    top=mat[:1]\n",
    "    matches=[]\n",
    "    for i, neighbor in enumerate(mat[:1]):\n",
    "        folder=pred_final[neighbor].split('/')[-2]\n",
    "        category=pred_final[neighbor].split('/')[-3]\n",
    "        key=\"/\".join(pred_final[neighbor].split('/')[:-1])\n",
    "        files=glob.glob(key+'/*.jpeg')\n",
    "    for file_name in files:\n",
    "        matches.append(file_name.split('/')[-1])\n",
    "    for i, neighbor in enumerate(mat[:k]):\n",
    "        \n",
    "        name=pred_final[neighbor].split('/')[-1]\n",
    "        top50.append(name)\n",
    "    return category,folder,matches,top50"
   ]
  },
  {
   "cell_type": "code",
   "execution_count": 3,
   "metadata": {},
   "outputs": [],
   "source": [
    "extracted_features=np.zeros((10000,2048),dtype=np.float32)\n",
    "with open('saved_features_recom.txt') as f:\n",
    "    for i,line in enumerate(f):\n",
    "        extracted_features[i,:]=line.split()"
   ]
  },
  {
   "cell_type": "code",
   "execution_count": 4,
   "metadata": {},
   "outputs": [],
   "source": [
    "with open('neighbor_list_recom.pickle','rb') as f:\n",
    "        neighbor_list = pickle.load(f) "
   ]
  },
  {
   "cell_type": "code",
   "execution_count": null,
   "metadata": {},
   "outputs": [
    {
     "name": "stderr",
     "output_type": "stream",
     "text": [
      "/Users/infinitejock/opt/anaconda3/lib/python3.7/site-packages/scipy/spatial/distance.py:720: RuntimeWarning: invalid value encountered in float_scalars\n",
      "  dist = 1.0 - uv / np.sqrt(uu * vv)\n"
     ]
    }
   ],
   "source": [
    "data=[['queryImage']+['Match_'+str(i) for i in range(1,51)]+['Count_top5','Count_top10']]\n",
    "import json\n",
    "for i,feat in enumerate(extracted_features):\n",
    "    temp=[neighbor_list[i].split('/')[-1]]\n",
    "    category,folder,matches,top50=get_top_k_similar(extracted_features[i], extracted_features, neighbor_list,k=50)\n",
    "    out={}\n",
    "    out['category']=category\n",
    "    out['folder']=folder\n",
    "    out['matches']=matches\n",
    "    out['queryImage']=neighbor_list[i].split('/')[-1]\n",
    "    mode = 'a' if os.path.exists(\"result.json\") else 'w'\n",
    "    with open(\"result.json\", mode) as file:\n",
    "        file.write(json.dumps(out))\n",
    "    temp+=names\n",
    "    count_top5=0\n",
    "    count_top10=0\n",
    "    for i in matches:\n",
    "        if i in temp[:5]:\n",
    "            count_top5+=1\n",
    "        if i in temp[:10]:\n",
    "            count_top10+=1\n",
    "    data.append(temp)\n",
    "    data.append(count_top5)\n",
    "    data.append(count_top10)\n",
    "    if i == 2:\n",
    "        break\n",
    "my_df = pd.DataFrame(data)\n",
    "my_df.to_csv('result.csv', index=False, header=False)\n"
   ]
  },
  {
   "cell_type": "code",
   "execution_count": 19,
   "metadata": {},
   "outputs": [
    {
     "data": {
      "text/plain": [
       "['/Users/infinitejock/Downloads/Dataset/Shoes/435ab1c2ffd42b76f55c716a57a9005c77b32f4a/85aed5bc-7f2f-4a44-a958-1ba7879583d1.jpeg',\n",
       " '/Users/infinitejock/Downloads/Dataset/Shoes/435ab1c2ffd42b76f55c716a57a9005c77b32f4a/feffad47-d2cc-4644-86ef-a1322589ce81.jpeg',\n",
       " '/Users/infinitejock/Downloads/Dataset/Shoes/435ab1c2ffd42b76f55c716a57a9005c77b32f4a/3d6ae60c-db14-4fee-875f-59e6cf2f6ecd.jpeg',\n",
       " '/Users/infinitejock/Downloads/Dataset/Shoes/435ab1c2ffd42b76f55c716a57a9005c77b32f4a/e34ee414-7584-4ec3-928f-5955a4563897.jpeg',\n",
       " '/Users/infinitejock/Downloads/Dataset/Shoes/435ab1c2ffd42b76f55c716a57a9005c77b32f4a/199f5d2c-c7f2-467d-8786-2a746673cab0.jpeg',\n",
       " '/Users/infinitejock/Downloads/Dataset/Shoes/435ab1c2ffd42b76f55c716a57a9005c77b32f4a/6c2822dc-e1d8-4ae4-8fee-1cd6ea06923e.jpeg',\n",
       " '/Users/infinitejock/Downloads/Dataset/Shoes/435ab1c2ffd42b76f55c716a57a9005c77b32f4a/ffdf2b59-d6aa-41de-8564-259ac756c252.jpeg']"
      ]
     },
     "execution_count": 19,
     "metadata": {},
     "output_type": "execute_result"
    }
   ],
   "source": [
    "matches"
   ]
  },
  {
   "cell_type": "code",
   "execution_count": 29,
   "metadata": {},
   "outputs": [],
   "source": [
    "import pandas as pd"
   ]
  },
  {
   "cell_type": "code",
   "execution_count": null,
   "metadata": {},
   "outputs": [],
   "source": [
    "my_df = pd.DataFrame(a)\n",
    "\n",
    "In [4]: my_df.to_csv('my_csv.csv', index=False, header=False)"
   ]
  },
  {
   "cell_type": "code",
   "execution_count": 30,
   "metadata": {},
   "outputs": [],
   "source": [
    "t=['queryImage']+['top'+str(i) for i in range(1,51)]"
   ]
  },
  {
   "cell_type": "code",
   "execution_count": 31,
   "metadata": {},
   "outputs": [
    {
     "data": {
      "text/plain": [
       "['queryImage',\n",
       " 'top1',\n",
       " 'top2',\n",
       " 'top3',\n",
       " 'top4',\n",
       " 'top5',\n",
       " 'top6',\n",
       " 'top7',\n",
       " 'top8',\n",
       " 'top9',\n",
       " 'top10',\n",
       " 'top11',\n",
       " 'top12',\n",
       " 'top13',\n",
       " 'top14',\n",
       " 'top15',\n",
       " 'top16',\n",
       " 'top17',\n",
       " 'top18',\n",
       " 'top19',\n",
       " 'top20',\n",
       " 'top21',\n",
       " 'top22',\n",
       " 'top23',\n",
       " 'top24',\n",
       " 'top25',\n",
       " 'top26',\n",
       " 'top27',\n",
       " 'top28',\n",
       " 'top29',\n",
       " 'top30',\n",
       " 'top31',\n",
       " 'top32',\n",
       " 'top33',\n",
       " 'top34',\n",
       " 'top35',\n",
       " 'top36',\n",
       " 'top37',\n",
       " 'top38',\n",
       " 'top39',\n",
       " 'top40',\n",
       " 'top41',\n",
       " 'top42',\n",
       " 'top43',\n",
       " 'top44',\n",
       " 'top45',\n",
       " 'top46',\n",
       " 'top47',\n",
       " 'top48',\n",
       " 'top49',\n",
       " 'top50']"
      ]
     },
     "execution_count": 31,
     "metadata": {},
     "output_type": "execute_result"
    }
   ],
   "source": [
    "t"
   ]
  },
  {
   "cell_type": "code",
   "execution_count": null,
   "metadata": {},
   "outputs": [],
   "source": []
  }
 ],
 "metadata": {
  "kernelspec": {
   "display_name": "Python 3",
   "language": "python",
   "name": "python3"
  },
  "language_info": {
   "codemirror_mode": {
    "name": "ipython",
    "version": 3
   },
   "file_extension": ".py",
   "mimetype": "text/x-python",
   "name": "python",
   "nbconvert_exporter": "python",
   "pygments_lexer": "ipython3",
   "version": "3.7.4"
  }
 },
 "nbformat": 4,
 "nbformat_minor": 4
}
