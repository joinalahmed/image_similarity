{
 "cells": [
  {
   "cell_type": "code",
   "execution_count": 30,
   "metadata": {},
   "outputs": [],
   "source": [
    "i=[1,2,3]"
   ]
  },
  {
   "cell_type": "code",
   "execution_count": 32,
   "metadata": {},
   "outputs": [],
   "source": [
    "if len(i) < 9:\n",
    "    diff = 9-len(i)\n",
    "    for j in range(diff):\n",
    "        i.append(i[-1])"
   ]
  },
  {
   "cell_type": "code",
   "execution_count": 33,
   "metadata": {},
   "outputs": [
    {
     "data": {
      "text/plain": [
       "[1, 2, 3, 3, 3, 3, 3, 3, 3]"
      ]
     },
     "execution_count": 33,
     "metadata": {},
     "output_type": "execute_result"
    }
   ],
   "source": [
    "i"
   ]
  },
  {
   "cell_type": "code",
   "execution_count": 22,
   "metadata": {},
   "outputs": [],
   "source": [
    "key=\"/Users/infinitejock/Downloads/Dataset/Tops/1a98b821e844651018c02074b8b1b17a0a311c42/75c16259-0026-433b-9d92-505c22640c9c.jpeg\""
   ]
  },
  {
   "cell_type": "code",
   "execution_count": 28,
   "metadata": {},
   "outputs": [
    {
     "data": {
      "text/plain": [
       "'/Users/infinitejock/Downloads/Dataset/Tops/1a98b821e844651018c02074b8b1b17a0a311c42'"
      ]
     },
     "execution_count": 28,
     "metadata": {},
     "output_type": "execute_result"
    }
   ],
   "source": [
    "\"/\".join(key.split('/')[:-1])"
   ]
  },
  {
   "cell_type": "code",
   "execution_count": 18,
   "metadata": {},
   "outputs": [
    {
     "ename": "ModuleNotFoundError",
     "evalue": "No module named 'tensorflow'",
     "output_type": "error",
     "traceback": [
      "\u001b[0;31m---------------------------------------------------------------------------\u001b[0m",
      "\u001b[0;31mModuleNotFoundError\u001b[0m                       Traceback (most recent call last)",
      "\u001b[0;32m<ipython-input-18-d6579f534729>\u001b[0m in \u001b[0;36m<module>\u001b[0;34m\u001b[0m\n\u001b[0;32m----> 1\u001b[0;31m \u001b[0;32mimport\u001b[0m \u001b[0mtensorflow\u001b[0m\u001b[0;34m\u001b[0m\u001b[0;34m\u001b[0m\u001b[0m\n\u001b[0m",
      "\u001b[0;31mModuleNotFoundError\u001b[0m: No module named 'tensorflow'"
     ]
    }
   ],
   "source": [
    "import tensorflow"
   ]
  },
  {
   "cell_type": "code",
   "execution_count": 15,
   "metadata": {},
   "outputs": [
    {
     "name": "stdout",
     "output_type": "stream",
     "text": [
      "1469\n"
     ]
    }
   ],
   "source": [
    "import os\n",
    "classes=os.listdir('./Dataset/')\n",
    "all_files=[]\n",
    "for prod_class in classes:\n",
    "    if prod_class==\".DS_Store\":\n",
    "        continue\n",
    "    all_files+=['./Dataset/'+prod_class+'/' + f for f in os.listdir('./Dataset/'+prod_class+'/')]\n",
    "print(len(all_files))\n",
    "bags_files = ['./Dataset/Bags/' + f for f in os.listdir('./Dataset/Bags/')]\n",
    "dresses_files =['./Dataset/Dresses/' + f for f in os.listdir('./Dataset/Dresses/')]\n",
    "jacket_files = ['./Dataset/Jacket/' + f for f in os.listdir('./Dataset/Jacket/')]\n",
    "neckware_files = ['./Dataset/Jacket/' + f for f in os.listdir('./Dataset/Jacket/')]\n",
    "outerware_files = ['./Dataset/Outerwear/' + f for f in os.listdir('./Dataset/Outerwear/')]\n",
    "tops_files = ['./Dataset/Tops/' + f for f in os.listdir('./Dataset/Tops/')]\n",
    "shoes_files = ['./Dataset/Shoes/' + f for f in os.listdir('./Dataset/Shoes/')]"
   ]
  },
  {
   "cell_type": "code",
   "execution_count": 16,
   "metadata": {},
   "outputs": [
    {
     "data": {
      "text/plain": [
       "75"
      ]
     },
     "execution_count": 16,
     "metadata": {},
     "output_type": "execute_result"
    }
   ],
   "source": [
    "len(bags_files)"
   ]
  },
  {
   "cell_type": "code",
   "execution_count": 17,
   "metadata": {},
   "outputs": [],
   "source": [
    "all_files = bags_files + shoes_files + tops_files + outerware_files+ neckware_files+ jacket_files+ dresses_files"
   ]
  },
  {
   "cell_type": "code",
   "execution_count": null,
   "metadata": {},
   "outputs": [],
   "source": [
    "len(all_files)"
   ]
  },
  {
   "cell_type": "code",
   "execution_count": 8,
   "metadata": {},
   "outputs": [
    {
     "name": "stdout",
     "output_type": "stream",
     "text": [
      "./Dataset/Bags/.DS_Store\n",
      "./Dataset/Jacket/.DS_Store\n",
      "./Dataset/Jacket/.DS_Store\n"
     ]
    }
   ],
   "source": [
    "all_images=[]\n",
    "for fold in all_files:\n",
    "    try:\n",
    "        all_images+=[ fold +\"/\" + f for f in os.listdir(fold)]\n",
    "    except:\n",
    "        print(fold)"
   ]
  },
  {
   "cell_type": "code",
   "execution_count": 9,
   "metadata": {},
   "outputs": [],
   "source": [
    "import cv2"
   ]
  },
  {
   "cell_type": "code",
   "execution_count": 17,
   "metadata": {},
   "outputs": [
    {
     "name": "stdout",
     "output_type": "stream",
     "text": [
      "4048 2640\n",
      "4048 2640\n",
      "4048 2640\n",
      "4048 2640\n",
      "4048 2640\n",
      "4048 2640\n",
      "4048 2640\n",
      "4048 2640\n",
      "4048 2640\n",
      "4048 2640\n",
      "4048 2640\n",
      "4048 2640\n",
      "4048 2640\n",
      "4048 2640\n",
      "4048 2640\n",
      "4048 2640\n",
      "4048 2640\n",
      "4048 2640\n",
      "4048 2640\n",
      "4048 2640\n",
      "4048 2640\n",
      "4048 2640\n",
      "4048 2640\n",
      "4048 2640\n",
      "4048 2640\n",
      "4048 2640\n",
      "4048 2640\n",
      "4048 2640\n",
      "4048 2640\n",
      "4048 2640\n",
      "4048 2640\n",
      "4048 2640\n",
      "4048 2640\n",
      "4048 2640\n",
      "4048 2640\n",
      "4048 2640\n",
      "4048 2640\n",
      "4048 2640\n",
      "4048 2640\n",
      "4048 2640\n",
      "4048 2640\n",
      "4048 2640\n",
      "4048 2640\n",
      "4048 2640\n",
      "4048 2640\n",
      "4048 2640\n",
      "4048 2640\n",
      "4048 2640\n",
      "4048 2640\n",
      "4048 2640\n",
      "4048 2640\n",
      "253 165\n",
      "4048 2640\n",
      "4048 2640\n",
      "4048 2640\n",
      "4048 2640\n",
      "4048 2640\n",
      "4048 2640\n",
      "4048 2640\n",
      "4048 2640\n",
      "4048 2640\n",
      "4048 2640\n",
      "4048 2640\n",
      "4048 2640\n",
      "4048 2640\n",
      "4048 2640\n",
      "4048 2640\n",
      "4048 2640\n",
      "4048 2640\n",
      "4048 2640\n",
      "4048 2640\n",
      "4048 2640\n",
      "4048 2640\n",
      "4048 2640\n",
      "4048 2640\n",
      "4048 2640\n",
      "4048 2640\n",
      "4048 2640\n",
      "4048 2640\n",
      "4048 2640\n",
      "4048 2640\n",
      "4048 2640\n",
      "4048 2640\n",
      "253 165\n",
      "4048 2640\n",
      "4048 2640\n",
      "4048 2640\n",
      "4048 2640\n",
      "4048 2640\n",
      "2024 1320\n",
      "4048 2640\n",
      "4048 2640\n",
      "4048 2640\n",
      "4048 2640\n",
      "4048 2640\n",
      "4048 2640\n",
      "239 399\n",
      "4048 2640\n",
      "4048 2640\n",
      "4048 2640\n",
      "4048 2640\n",
      "4048 2640\n",
      "4048 2640\n",
      "4048 2640\n",
      "4048 2640\n",
      "4048 2640\n",
      "4048 2640\n",
      "4048 2640\n",
      "537 350\n",
      "4048 2640\n",
      "4048 2640\n",
      "4048 2640\n",
      "4048 2640\n",
      "4048 2640\n",
      "4048 2640\n",
      "4048 2640\n",
      "4048 2640\n",
      "4048 2640\n",
      "4048 2640\n",
      "4048 2640\n",
      "4048 2640\n",
      "4048 2640\n",
      "4048 2640\n",
      "4048 2640\n",
      "4048 2640\n",
      "4048 2640\n",
      "4048 2640\n",
      "4048 2640\n",
      "4048 2640\n",
      "253 165\n",
      "4048 2640\n",
      "2024 1320\n",
      "2024 1320\n",
      "2024 1320\n",
      "4048 2640\n",
      "4048 2640\n",
      "4048 2640\n",
      "4048 2640\n",
      "4048 2640\n",
      "4048 2640\n",
      "4048 2640\n",
      "4048 2640\n",
      "4048 2640\n",
      "4048 2640\n",
      "4048 2640\n",
      "4048 2640\n",
      "4048 2640\n",
      "4048 2640\n",
      "4048 2640\n",
      "4048 2640\n",
      "4048 2640\n",
      "4048 2640\n",
      "4048 2640\n",
      "4048 2640\n",
      "4048 2640\n",
      "4048 2640\n",
      "4048 2640\n",
      "4048 2640\n",
      "4048 2640\n",
      "4048 2640\n",
      "4048 2640\n",
      "4048 2640\n",
      "4048 2640\n",
      "4048 2640\n",
      "4048 2640\n",
      "537 350\n",
      "4048 2640\n",
      "4048 2640\n",
      "4048 2640\n"
     ]
    },
    {
     "ename": "KeyboardInterrupt",
     "evalue": "",
     "output_type": "error",
     "traceback": [
      "\u001b[0;31m---------------------------------------------------------------------------\u001b[0m",
      "\u001b[0;31mKeyboardInterrupt\u001b[0m                         Traceback (most recent call last)",
      "\u001b[0;32m<ipython-input-17-74cb36599713>\u001b[0m in \u001b[0;36m<module>\u001b[0;34m\u001b[0m\n\u001b[1;32m      1\u001b[0m \u001b[0;32mfor\u001b[0m \u001b[0mi\u001b[0m \u001b[0;32min\u001b[0m \u001b[0mall_images\u001b[0m\u001b[0;34m:\u001b[0m\u001b[0;34m\u001b[0m\u001b[0;34m\u001b[0m\u001b[0m\n\u001b[0;32m----> 2\u001b[0;31m     \u001b[0mimg\u001b[0m\u001b[0;34m=\u001b[0m\u001b[0mcv2\u001b[0m\u001b[0;34m.\u001b[0m\u001b[0mimread\u001b[0m\u001b[0;34m(\u001b[0m\u001b[0mi\u001b[0m\u001b[0;34m)\u001b[0m\u001b[0;34m\u001b[0m\u001b[0;34m\u001b[0m\u001b[0m\n\u001b[0m\u001b[1;32m      3\u001b[0m     \u001b[0mh\u001b[0m\u001b[0;34m,\u001b[0m\u001b[0mw\u001b[0m\u001b[0;34m,\u001b[0m\u001b[0mc\u001b[0m\u001b[0;34m=\u001b[0m\u001b[0mimg\u001b[0m\u001b[0;34m.\u001b[0m\u001b[0mshape\u001b[0m\u001b[0;34m\u001b[0m\u001b[0;34m\u001b[0m\u001b[0m\n\u001b[1;32m      4\u001b[0m     \u001b[0;32mif\u001b[0m \u001b[0;34m(\u001b[0m\u001b[0mh\u001b[0m\u001b[0;34m/\u001b[0m\u001b[0mw\u001b[0m\u001b[0;34m)\u001b[0m\u001b[0;34m==\u001b[0m\u001b[0;36m0.6\u001b[0m\u001b[0;34m:\u001b[0m\u001b[0;34m\u001b[0m\u001b[0;34m\u001b[0m\u001b[0m\n\u001b[1;32m      5\u001b[0m         \u001b[0;32mcontinue\u001b[0m\u001b[0;34m\u001b[0m\u001b[0;34m\u001b[0m\u001b[0m\n",
      "\u001b[0;31mKeyboardInterrupt\u001b[0m: "
     ]
    }
   ],
   "source": [
    "for i in all_images:\n",
    "    img=cv2.imread(i)\n",
    "    h,w,c=img.shape\n",
    "    if (h/w)==0.6:\n",
    "        continue\n",
    "    else:\n",
    "        print(h,w)"
   ]
  },
  {
   "cell_type": "code",
   "execution_count": 13,
   "metadata": {},
   "outputs": [],
   "source": [
    "img=cv2.imread(\"/Users/infinitejock/Downloads/Dataset/Bags/1812db9d7163eafc70ecf23ab416a41432625f2f/eaa76130-5605-4709-bc6e-d4a145df6875.jpeg\")"
   ]
  },
  {
   "cell_type": "code",
   "execution_count": 15,
   "metadata": {},
   "outputs": [
    {
     "data": {
      "text/plain": [
       "True"
      ]
     },
     "execution_count": 15,
     "metadata": {},
     "output_type": "execute_result"
    }
   ],
   "source": [
    "cv2.imwrite(\"img.jpg\",img)"
   ]
  },
  {
   "cell_type": "code",
   "execution_count": 10,
   "metadata": {},
   "outputs": [
    {
     "name": "stdout",
     "output_type": "stream",
     "text": [
      "/Users/infinitejock/Desktop/product_similarity/server\n"
     ]
    }
   ],
   "source": [
    "!pwd"
   ]
  },
  {
   "cell_type": "code",
   "execution_count": null,
   "metadata": {},
   "outputs": [],
   "source": []
  }
 ],
 "metadata": {
  "kernelspec": {
   "display_name": "Python 3",
   "language": "python",
   "name": "python3"
  },
  "language_info": {
   "codemirror_mode": {
    "name": "ipython",
    "version": 3
   },
   "file_extension": ".py",
   "mimetype": "text/x-python",
   "name": "python",
   "nbconvert_exporter": "python",
   "pygments_lexer": "ipython3",
   "version": "3.7.4"
  }
 },
 "nbformat": 4,
 "nbformat_minor": 4
}
